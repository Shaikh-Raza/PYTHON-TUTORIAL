{
 "cells": [
  {
   "cell_type": "markdown",
   "metadata": {},
   "source": [
    "# PROGRAM USING IF , ELIF AND ELSE STATEMENT"
   ]
  },
  {
   "cell_type": "markdown",
   "metadata": {},
   "source": [
    "- PROGRAM NO. 1"
   ]
  },
  {
   "cell_type": "markdown",
   "metadata": {},
   "source": [
    "- Take value of lenght and breadth of a rectangle from user and check if it is square or not .\n",
    "\n",
    "\n"
   ]
  },
  {
   "cell_type": "code",
   "execution_count": 1,
   "metadata": {
    "scrolled": true
   },
   "outputs": [
    {
     "name": "stdout",
     "output_type": "stream",
     "text": [
      "ENTER THE LENGTH : 5\n",
      "ENTER THE BREADTH : 5\n",
      "IT IS A SQUARE \n"
     ]
    }
   ],
   "source": [
    "a=int(input(\"ENTER THE LENGTH : \"))\n",
    "\n",
    "b=int(input(\"ENTER THE BREADTH : \"))\n",
    "\n",
    "if a==b:\n",
    "    print(\"IT IS A SQUARE \")\n",
    "else:\n",
    "    print(\"IT IS NOT A SQUARE\")"
   ]
  },
  {
   "cell_type": "markdown",
   "metadata": {},
   "source": [
    "- PROGRAM NO. 2"
   ]
  },
  {
   "cell_type": "markdown",
   "metadata": {},
   "source": [
    "- Take two int values from user and print greatest among them."
   ]
  },
  {
   "cell_type": "code",
   "execution_count": 3,
   "metadata": {},
   "outputs": [
    {
     "name": "stdout",
     "output_type": "stream",
     "text": [
      "ENTER TNE FIRST NUMBER5\n",
      "ENTER TNE SECOND NUMBER5\n",
      "BOTH NUMBER ARE EQUAL \n"
     ]
    }
   ],
   "source": [
    "a=int(input(\"ENTER TNE FIRST NUMBER\"))\n",
    "b=int(input(\"ENTER TNE SECOND NUMBER\"))\n",
    "if a>b:\n",
    "    print(\"FIRST NUMBER IS GREATER\")\n",
    "elif a<b:\n",
    "    print(\"SECOND NUMBER IS GREATER \")\n",
    "else:\n",
    "    print(\"BOTH NUMBER ARE EQUAL \")"
   ]
  },
  {
   "cell_type": "markdown",
   "metadata": {},
   "source": [
    "- PROGRAM NO. 3"
   ]
  },
  {
   "cell_type": "markdown",
   "metadata": {},
   "source": [
    "- A shop will give discount of 10% if the cost of purchased quantity is more than 1000.\n",
    "Ask user for quantity \n",
    "Suppose, one unit will cost 100. \n",
    "Judge and print total cost for user "
   ]
  },
  {
   "cell_type": "code",
   "execution_count": 11,
   "metadata": {},
   "outputs": [
    {
     "name": "stdout",
     "output_type": "stream",
     "text": [
      "ENTER THE NUMBER OF QUANTITY :15\n",
      "TOTAL DISCOUNT IS :  150.0\n",
      "TOTAL COST IS : 1350.0\n"
     ]
    }
   ],
   "source": [
    "a=int(input(\"ENTER THE NUMBER OF QUANTITY :\"))\n",
    "b=a*100\n",
    "if b>1000:\n",
    "    print(\"TOTAL DISCOUNT IS : \",b/10)\n",
    "    print(\"TOTAL COST IS :\",b-(b/10))\n",
    "else:\n",
    "    print(\"COST IS : \",b)"
   ]
  },
  {
   "cell_type": "markdown",
   "metadata": {},
   "source": [
    "- PROGRAM NO. 4"
   ]
  },
  {
   "cell_type": "markdown",
   "metadata": {},
   "source": [
    "- A company decided to give bonus of 5% to employee if his/her year of service is more than 5 years.\n",
    "Ask user for their salary and year of service and print the net bonus amount."
   ]
  },
  {
   "cell_type": "code",
   "execution_count": 17,
   "metadata": {},
   "outputs": [
    {
     "name": "stdout",
     "output_type": "stream",
     "text": [
      "ENTER YOUR SALARY :15000\n",
      "ENTER YOUR WORKING YEAR  :6\n",
      "BONUS IS : 750.0\n",
      "TOTAL SALARY IS : 15750.0\n"
     ]
    }
   ],
   "source": [
    "s=int(input(\"ENTER YOUR SALARY :\"))\n",
    "y=int(input(\"ENTER YOUR WORKING YEAR  :\"))\n",
    "if y>5:\n",
    "    print(\"BONUS IS :\",(s*5)/100)\n",
    "    print(\"TOTAL SALARY IS :\",s+((s*5)/100))\n",
    "else:\n",
    "    print(\"YOU ARE NOT ELIGIBLE FOR BONUS\")\n",
    "    "
   ]
  },
  {
   "cell_type": "markdown",
   "metadata": {},
   "source": [
    "- PROGRAM NO. 5"
   ]
  },
  {
   "cell_type": "markdown",
   "metadata": {},
   "source": [
    " - A school has following rules for grading system:\n",
    "-  a. Below 25 - F\n",
    "-  b. 25 to 45 - E\n",
    "-  c. 45 to 50 - D\n",
    "-  d. 50 to 60 - C\n",
    "-  e. 60 to 80 - B\n",
    "-  f. Above 80 - A\n",
    "-  Ask user to enter marks and print the corresponding grade"
   ]
  },
  {
   "cell_type": "code",
   "execution_count": 8,
   "metadata": {},
   "outputs": [
    {
     "name": "stdout",
     "output_type": "stream",
     "text": [
      "ENTER YOUR MARKS : 78\n",
      "YOUR GRADE IS : 'B'\n"
     ]
    }
   ],
   "source": [
    "a=int(input(\"ENTER YOUR MARKS : \"))\n",
    "if a<25:\n",
    "    print(\"YOUR GRADE IS : 'E'\")\n",
    "elif a>=25 and a<45:\n",
    "    print(\"YOUR GRADE IS : 'F'\")\n",
    "elif a>=45 and a<50:\n",
    "    print(\"YOUR GRADE IS : 'D'\")\n",
    "elif a>=50 and a<60:\n",
    "    print(\"YOUR GRADE IS : 'C'\")\n",
    "elif a>=60 and a<80:\n",
    "    print(\"YOUR GRADE IS : 'B'\")\n",
    "else:\n",
    "    print(\"YOUR GRADE IS : 'A'\")\n"
   ]
  },
  {
   "cell_type": "markdown",
   "metadata": {},
   "source": [
    "- PROGRAM NO. 6"
   ]
  },
  {
   "cell_type": "markdown",
   "metadata": {},
   "source": [
    "- Take input of age of 3 people by user and determine oldest and youngest among them."
   ]
  },
  {
   "cell_type": "code",
   "execution_count": 4,
   "metadata": {},
   "outputs": [
    {
     "name": "stdout",
     "output_type": "stream",
     "text": [
      "ENTER THE FIRST PERSON AGE :45\n",
      "ENTER THE SECOND PERSON AGE :46\n",
      "ENTER THE THIRD PERSON AGE :54\n",
      "THIRD PERSON IS OLDEST PERSON AND AGE IS :  54\n",
      "FIRST  PERSON IS YOUNGEST PERSON AND AGE IS :  45\n"
     ]
    }
   ],
   "source": [
    "a=int(input(\"ENTER THE FIRST PERSON AGE :\"))\n",
    "b=int(input(\"ENTER THE SECOND PERSON AGE :\"))\n",
    "c=int(input(\"ENTER THE THIRD PERSON AGE :\"))\n",
    "if a>b and a>c:\n",
    "    print(\"FIRST PERSON IS OLDEST PERSON AND AGE IS : \",a)\n",
    "\n",
    "elif b>a and b>c:\n",
    "    print(\"SECOND PERSON IS OLDEST PERSON AND AGE IS : \",b)\n",
    "\n",
    "elif c>b and c>a:\n",
    "    print(\"THIRD PERSON IS OLDEST PERSON AND AGE IS : \",c)\n",
    "else:\n",
    "    print(\"ALL ARE EQUAL \")\n",
    "    \n",
    "if a<b and a<c:\n",
    "    print(\"FIRST  PERSON IS YOUNGEST PERSON AND AGE IS : \",a)\n",
    "\n",
    "elif b<a and b<c:\n",
    "    print(\"SECOND  PERSON IS YOUNGEST PERSON AND AGE IS : \",b)\n",
    "\n",
    "elif c<b and c<a:\n",
    "    print(\"THIRD  PERSON IS YOUNGEST PERSON AND AGE IS : \",c)\n",
    "else:\n",
    "    print(\"ALL ARE EQUAL\")"
   ]
  },
  {
   "cell_type": "markdown",
   "metadata": {},
   "source": [
    "- PROGRAM NO. 7"
   ]
  },
  {
   "cell_type": "markdown",
   "metadata": {},
   "source": [
    " -  Write a program to print absolute vlaue of a number entered by user. E.g.-\n",
    "- INPUT: 1        OUTPUT: 1\n",
    "- INPUT: -1        OUTPUT : 1"
   ]
  },
  {
   "cell_type": "code",
   "execution_count": 9,
   "metadata": {},
   "outputs": [
    {
     "name": "stdout",
     "output_type": "stream",
     "text": [
      "ENTER THE NUMBER : -1\n",
      "OUTPUT: 1\n"
     ]
    }
   ],
   "source": [
    "a=int(input(\"ENTER THE NUMBER : \"))\n",
    "if a<0:\n",
    "    print(\"OUTPUT:\",a*-1)\n",
    "else :\n",
    "    print(\"OUTPUT :\",a)"
   ]
  },
  {
   "cell_type": "markdown",
   "metadata": {},
   "source": [
    "- PROGRAM NO. 8"
   ]
  },
  {
   "cell_type": "markdown",
   "metadata": {},
   "source": [
    " -  A student will not be allowed to sit in exam if his/her attendence is less than 75%.\n",
    "- Take following input from user\n",
    "- Number of classes held\n",
    "- Number of classes attended.\n",
    "- And print\n",
    "- percentage of class attended\n",
    "- Is student is allowed to sit in exam or not"
   ]
  },
  {
   "cell_type": "code",
   "execution_count": 14,
   "metadata": {},
   "outputs": [
    {
     "name": "stdout",
     "output_type": "stream",
     "text": [
      "ENTER THE NUMBER OF CLASSES HELD :17\n",
      "ENTER THE NUMBER OF CLASSES ATTENDED  :10\n",
      "YOR ARE NOT ALLOWED TO SIT IN EXAM AND NUMBER OF CLASSES ATTENDED IN PERCENTEGE : 58.8235294117647\n"
     ]
    }
   ],
   "source": [
    "a=int(input(\"ENTER THE NUMBER OF CLASSES HELD :\"))\n",
    "b=int(input(\"ENTER THE NUMBER OF CLASSES ATTENDED  :\"))\n",
    "c=(b*100)/a\n",
    "if c>=75:\n",
    "    print(\"YOU ARE ALLOWED TO SIT IN EXAM AND NUMBER OF CLASSES ATTENDED IN PERCENTEGE: \",c)\n",
    "else:\n",
    "    print('YOR ARE NOT ALLOWED TO SIT IN EXAM AND NUMBER OF CLASSES ATTENDED IN PERCENTEGE :',c)"
   ]
  },
  {
   "cell_type": "markdown",
   "metadata": {},
   "source": [
    "- PROGRAM NO. 9"
   ]
  },
  {
   "cell_type": "markdown",
   "metadata": {},
   "source": [
    "-  Modify the above question to allow student to sit if he/she has medical cause. \n",
    " Ask user if he/she has medical cause or not ( 'Y' or 'N' ) and print accordingly"
   ]
  },
  {
   "cell_type": "code",
   "execution_count": 12,
   "metadata": {},
   "outputs": [
    {
     "name": "stdout",
     "output_type": "stream",
     "text": [
      "ENTER THE NUMBER OF CLASSES HELD :10\n",
      "ENTER THE NUMBER OF CLASSES ATTENDED  :4\n",
      "IF YOU ARE UNDER MEDICAL CAUSE THAN SAY Y OR N :Y\n",
      "YOU ARE ALLOWED TO SIT IN EXAM\n"
     ]
    }
   ],
   "source": [
    "a=int(input(\"ENTER THE NUMBER OF CLASSES HELD :\"))\n",
    "b=int(input(\"ENTER THE NUMBER OF CLASSES ATTENDED  :\"))\n",
    "d=str(input('IF YOU ARE UNDER MEDICAL CAUSE THAN SAY Y OR N :'))\n",
    "\n",
    "c=(b*100)/a\n",
    "if d=='Y':\n",
    "    print('YOU ARE ALLOWED TO SIT IN EXAM')\n",
    "\n",
    "\n",
    "\n",
    "\n",
    "elif c>=75:\n",
    "    print(\"YOU ARE ALLOWED TO SIT IN EXAM AND NUMBER OF CLASSES ATTENDED IN PERCENTEGE: \",c)\n",
    "else:\n",
    "    print('YOR ARE NOT ALLOWED TO SIT IN EXAM AND NUMBER OF CLASSES ATTENDED IN PERCENTEGE :',c)\n"
   ]
  },
  {
   "cell_type": "markdown",
   "metadata": {},
   "source": [
    "- PROGRAM NO. 10"
   ]
  },
  {
   "cell_type": "markdown",
   "metadata": {},
   "source": [
    "-  Write a program to check if a year is leap year or not.\n",
    "If a year is divisible by 4 then it is leap year\n",
    " but if the year is century year like 2000, 1900, 2100 then it must be divisible by 400."
   ]
  },
  {
   "cell_type": "code",
   "execution_count": 4,
   "metadata": {},
   "outputs": [
    {
     "name": "stdout",
     "output_type": "stream",
     "text": [
      "ENTER THE YEAR :2020\n",
      "LEAP YEAR\n"
     ]
    }
   ],
   "source": [
    "year=int(input('ENTER THE YEAR :'))\n",
    "if year % 4 ==0:\n",
    "    print('LEAP YEAR')\n",
    "elif year % 100 ==0:\n",
    "    print('LEAP YEAR')\n",
    "elif year % 400 ==0:\n",
    "    print('LEAP YEAR')\n",
    "else:\n",
    "    print('NOT A LEAP YEAR')\n",
    "\n",
    "\n"
   ]
  },
  {
   "cell_type": "markdown",
   "metadata": {},
   "source": [
    "- PROGRAM NO. 11"
   ]
  },
  {
   "cell_type": "markdown",
   "metadata": {},
   "source": [
    "-  Ask user to enter age, sex ( M or F ), marital status ( Y or N ) and then using following rules print their place of service.\n",
    " -  if employee is female, then she will work only in urban areas.\n",
    "\n",
    " -  if employee is a male and age is in between 20 to 40 then he may work in anywhere\n",
    "\n",
    " -  if employee is male and age is in between 40 t0 60 then he will work in urban areas only.\n",
    "\n",
    " -  And any other input of age should print \"ERROR\"."
   ]
  },
  {
   "cell_type": "code",
   "execution_count": 5,
   "metadata": {},
   "outputs": [
    {
     "name": "stdout",
     "output_type": "stream",
     "text": [
      "ENTER YOUR AGE :34\n",
      "MALE = M and FEMALE = F :M\n",
      "MARITAL STATUS YES OR NO Y, N: Y\n",
      "WORK IN ANYWHERE\n"
     ]
    }
   ],
   "source": [
    "age=int(input('ENTER YOUR AGE :'))\n",
    "sex=str(input('MALE = M and FEMALE = F :'))\n",
    "marital=str(input('MARITAL STATUS YES OR NO Y, N: '))\n",
    "\n",
    "if sex=='F' and age>=20 and age<60:\n",
    "    print('FEMALE EMPLOYEE WORK ONLY URBAN AREA')\n",
    "elif age>=20 and age<40:\n",
    "    print('WORK IN ANYWHERE')\n",
    "elif age>=40 and age<60:\n",
    "    print('WORK IN URBAN AREA ONLY')\n",
    "else:\n",
    "    print('ERROR')"
   ]
  },
  {
   "cell_type": "markdown",
   "metadata": {},
   "source": [
    "- PROGRAM NO. 12"
   ]
  },
  {
   "cell_type": "markdown",
   "metadata": {},
   "source": [
    "- Checking eligible for vote!"
   ]
  },
  {
   "cell_type": "code",
   "execution_count": 6,
   "metadata": {},
   "outputs": [
    {
     "name": "stdout",
     "output_type": "stream",
     "text": [
      "ENTER YOUR NAME : raza\n",
      "ENTER YOUR AGE : 76\n",
      "YOU ARE ELIGIBLE FOR VOTE !!\n"
     ]
    }
   ],
   "source": [
    "name=input(\"ENTER YOUR NAME : \")\n",
    "a=int(input(\"ENTER YOUR AGE : \"))\n",
    "if a>=18:\n",
    " \n",
    "    print(\"YOU ARE ELIGIBLE FOR VOTE !!\")\n",
    "else:\n",
    "    print(\"YOU ARE NOT ELIGIBLE FOR VOTE\")"
   ]
  },
  {
   "cell_type": "markdown",
   "metadata": {},
   "source": [
    "- PROGRAM NO. 13"
   ]
  },
  {
   "cell_type": "markdown",
   "metadata": {},
   "source": [
    "- Odd even number finder."
   ]
  },
  {
   "cell_type": "code",
   "execution_count": 7,
   "metadata": {},
   "outputs": [
    {
     "name": "stdout",
     "output_type": "stream",
     "text": [
      "ENTER ANY NUMBER : 25\n",
      "ENTERED NUMBER IS ODD \n"
     ]
    }
   ],
   "source": [
    "a=int(input(\"ENTER ANY NUMBER : \"))\n",
    "if a%2==0:\n",
    "    print(\"ENTERED NUMBER IS EVEN \")\n",
    "else:\n",
    "    print(\"ENTERED NUMBER IS ODD \")"
   ]
  },
  {
   "cell_type": "markdown",
   "metadata": {},
   "source": [
    "- PROGRAM NO. 14"
   ]
  },
  {
   "cell_type": "markdown",
   "metadata": {},
   "source": [
    "- Positive , Nagitive and Zero Number Finder."
   ]
  },
  {
   "cell_type": "code",
   "execution_count": 8,
   "metadata": {},
   "outputs": [
    {
     "name": "stdout",
     "output_type": "stream",
     "text": [
      "ENTER ANY NUMBER : -2\n",
      "ENTERED NUMBER IS NAGATIVE \n"
     ]
    }
   ],
   "source": [
    "a=int(input(\"ENTER ANY NUMBER : \"))\n",
    "if a>0:\n",
    "    print(\"ENTERED NUMBER IS POSITIVE\")\n",
    "elif a<0:\n",
    "    print(\"ENTERED NUMBER IS NAGATIVE \")\n",
    "else:\n",
    "    print(\"ENTERED NUMBER IS ZERO \")"
   ]
  },
  {
   "cell_type": "markdown",
   "metadata": {},
   "source": [
    "- PROGRAM NO. 15"
   ]
  },
  {
   "cell_type": "markdown",
   "metadata": {},
   "source": [
    "- Simple Calculator"
   ]
  },
  {
   "cell_type": "code",
   "execution_count": null,
   "metadata": {},
   "outputs": [],
   "source": [
    "print(\"    ******SIMPLE CALCULATOR*******   \")\n",
    "print('______________________________________')\n",
    "num1=int(input(\" ENTER FIRST NUMBER  : \"))\n",
    "print('______________________________________')\n",
    "num2=int(input(\" ENTER SECOND NUMBER : \"))\n",
    "print('______________________________________')\n",
    "operator=input(\" ENTER OPERATOR      : \")\n",
    "print('______________________________________')\n",
    "if operator=='+':\n",
    "    print(' Result is           :',num1+num2)\n",
    "elif operator=='-':\n",
    "    print(' Result is           :',num1-num2)\n",
    "elif operator=='*':\n",
    "    print(' Result is           :',num1*num2)\n",
    "elif operator=='/':\n",
    "    print(' Result is           :',num1/num2)\n",
    "else:\n",
    "    print(\"INVALID OPERATOR \")\n",
    "    "
   ]
  },
  {
   "cell_type": "markdown",
   "metadata": {},
   "source": [
    "- PROGRAM NO. 16"
   ]
  },
  {
   "cell_type": "markdown",
   "metadata": {},
   "source": [
    " -  A 4 digit number is entered through keyboard. Write a program to print \n",
    " a new number with digits reversed as of orignal one. E.g.-\n",
    "- INPUT : 1234        OUTPUT : 4321\n",
    "- INPUT : 5982        OUTPUT : 2895\n"
   ]
  },
  {
   "cell_type": "code",
   "execution_count": null,
   "metadata": {},
   "outputs": [],
   "source": []
  }
 ],
 "metadata": {
  "kernelspec": {
   "display_name": "Python 3",
   "language": "python",
   "name": "python3"
  },
  "language_info": {
   "codemirror_mode": {
    "name": "ipython",
    "version": 3
   },
   "file_extension": ".py",
   "mimetype": "text/x-python",
   "name": "python",
   "nbconvert_exporter": "python",
   "pygments_lexer": "ipython3",
   "version": "3.7.6"
  }
 },
 "nbformat": 4,
 "nbformat_minor": 4
}
